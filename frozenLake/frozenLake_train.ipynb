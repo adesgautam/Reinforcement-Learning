{
 "cells": [
  {
   "cell_type": "code",
   "execution_count": 14,
   "metadata": {
    "collapsed": true
   },
   "outputs": [],
   "source": [
    "import gym\n",
    "import numpy as np\n",
    "import pandas as pd\n",
    "import time\n",
    "import pickle"
   ]
  },
  {
   "cell_type": "code",
   "execution_count": 15,
   "metadata": {
    "collapsed": true
   },
   "outputs": [],
   "source": [
    "env = gym.make('FrozenLake-v0')\n",
    "\n",
    "epsilon = 0.9\n",
    "# min_epsilon = 0.1\n",
    "# max_epsilon = 1.0\n",
    "# decay_rate = 0.01\n",
    "\n",
    "total_episodes = 10000\n",
    "max_steps = 100\n",
    "\n",
    "lr_rate = 0.81\n",
    "gamma = 0.96\n",
    "\n",
    "Q = np.zeros((env.observation_space.n, env.action_space.n))\n",
    "    \n",
    "def choose_action(state):\n",
    "    action=0\n",
    "    if np.random.uniform(0, 1) < epsilon:\n",
    "        action = env.action_space.sample()\n",
    "    else:\n",
    "        action = np.argmax(Q[state, :])\n",
    "    return action\n",
    "\n",
    "def learn(state, state2, reward, action):\n",
    "    predict = Q[state, action]\n",
    "    target = reward + gamma * np.max(Q[state2, :])\n",
    "    Q[state, action] = Q[state, action] + lr_rate * (target - predict)\n"
   ]
  },
  {
   "cell_type": "code",
   "execution_count": 18,
   "metadata": {},
   "outputs": [
    {
     "name": "stdout",
     "output_type": "stream",
     "text": [
      "Score over time:  7.8407\n",
      "[[6.57704419e-01 6.29738546e-01 6.37444467e-01 6.29926737e-01]\n",
      " [6.24746837e-01 4.40875827e-03 5.06910694e-01 6.47145481e-01]\n",
      " [6.11100472e-01 7.07598594e-01 6.87193973e-01 5.89996315e-01]\n",
      " [1.15428929e-01 5.89266136e-01 5.88285101e-01 6.13702100e-01]\n",
      " [7.00685368e-01 6.93060817e-01 6.20714152e-01 4.41601946e-03]\n",
      " [0.00000000e+00 0.00000000e+00 0.00000000e+00 0.00000000e+00]\n",
      " [5.83989084e-01 2.30855832e-02 7.36295655e-01 1.39259500e-04]\n",
      " [0.00000000e+00 0.00000000e+00 0.00000000e+00 0.00000000e+00]\n",
      " [6.71902551e-01 7.40678545e-01 6.53343830e-01 7.23161986e-01]\n",
      " [1.44094529e-01 8.08347110e-01 7.48542184e-01 6.63653899e-01]\n",
      " [7.59345936e-01 1.52925363e-01 6.90762400e-01 2.66184051e-02]\n",
      " [0.00000000e+00 0.00000000e+00 0.00000000e+00 0.00000000e+00]\n",
      " [0.00000000e+00 0.00000000e+00 0.00000000e+00 0.00000000e+00]\n",
      " [6.50648437e-01 8.10019867e-01 7.93601817e-01 1.52353413e-01]\n",
      " [8.43586024e-01 9.32944520e-01 9.10073202e-01 9.80912107e-01]\n",
      " [0.00000000e+00 0.00000000e+00 0.00000000e+00 0.00000000e+00]]\n"
     ]
    }
   ],
   "source": [
    "# Start\n",
    "rewards=0\n",
    "\n",
    "for episode in range(total_episodes):\n",
    "    state = env.reset()\n",
    "    t = 0\n",
    "    \n",
    "    while t < max_steps:\n",
    "        # env.render()\n",
    "\n",
    "        action = choose_action(state)  \n",
    "\n",
    "        state2, reward, done, info = env.step(action)  \n",
    "\n",
    "        learn(state, state2, reward, action)\n",
    "\n",
    "        state = state2\n",
    "\n",
    "        t += 1\n",
    "        rewards+=1\n",
    "        if done:\n",
    "            break\n",
    "#     epsilon = min_epsilon + (max_epsilon - min_epsilon) * np.exp(-decay_rate * episode) \n",
    "\n",
    "    \n",
    "print (\"Score over time: \", rewards/total_episodes)\n",
    "print(Q)"
   ]
  },
  {
   "cell_type": "code",
   "execution_count": 19,
   "metadata": {},
   "outputs": [
    {
     "name": "stdout",
     "output_type": "stream",
     "text": [
      "L U D U \n",
      "\n",
      "L L R L \n",
      "\n",
      "D D L L \n",
      "\n",
      "L D U L \n",
      "\n",
      "DONE !!!\n"
     ]
    }
   ],
   "source": [
    "map = []\n",
    "for i in range(16):\n",
    "    map.append(np.argmax(Q[i, :]))\n",
    "act = {0:\"L\", 1:\"D\", 2:\"R\", 3:\"U\"}\n",
    "for i in range(len(map)):\n",
    "    print(act[map[i]], end=' ')\n",
    "    if (i+1)%4==0:\n",
    "        print('\\n')\n",
    "    \n",
    "# pd.to_pickle(QT.Q, \"frozenLake_qTable.pkl\")\n",
    "with open(\"frozenLake_qTable.pkl\", 'wb') as f:\n",
    "    pickle.dump(Q, f)\n",
    "\n",
    "print(\"DONE !!!\")\n"
   ]
  },
  {
   "cell_type": "code",
   "execution_count": null,
   "metadata": {},
   "outputs": [],
   "source": [
    "rewards"
   ]
  }
 ],
 "metadata": {
  "kernelspec": {
   "display_name": "Python 3",
   "language": "python",
   "name": "python3"
  },
  "language_info": {
   "codemirror_mode": {
    "name": "ipython",
    "version": 3
   },
   "file_extension": ".py",
   "mimetype": "text/x-python",
   "name": "python",
   "nbconvert_exporter": "python",
   "pygments_lexer": "ipython3",
   "version": "3.6.1"
  }
 },
 "nbformat": 4,
 "nbformat_minor": 2
}
